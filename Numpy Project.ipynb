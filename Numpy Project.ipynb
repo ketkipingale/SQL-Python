{
 "cells": [
  {
   "cell_type": "code",
   "execution_count": 1,
   "id": "4ac036fb-8c2a-4b3e-9a6c-0cd2227ee6e0",
   "metadata": {},
   "outputs": [],
   "source": [
    "import numpy as np"
   ]
  },
  {
   "cell_type": "code",
   "execution_count": 2,
   "id": "81e1b7cd-9caa-48cf-8afb-5669471dcf81",
   "metadata": {},
   "outputs": [],
   "source": [
    "arr = np.array([3,6,32,7])"
   ]
  },
  {
   "cell_type": "code",
   "execution_count": 3,
   "id": "56a36cd8-ac3f-416e-a7a8-ec7e4f154d34",
   "metadata": {},
   "outputs": [
    {
     "data": {
      "text/plain": [
       "array([ 3,  6, 32,  7])"
      ]
     },
     "execution_count": 3,
     "metadata": {},
     "output_type": "execute_result"
    }
   ],
   "source": [
    "arr"
   ]
  },
  {
   "cell_type": "code",
   "execution_count": 4,
   "id": "79cafbe1-71ae-42a1-8b34-8012f48b6b52",
   "metadata": {},
   "outputs": [
    {
     "data": {
      "text/plain": [
       "np.int64(3)"
      ]
     },
     "execution_count": 4,
     "metadata": {},
     "output_type": "execute_result"
    }
   ],
   "source": [
    "arr[0]"
   ]
  },
  {
   "cell_type": "code",
   "execution_count": 5,
   "id": "2f0684ef-6ed5-4a1e-a385-8364048885d4",
   "metadata": {},
   "outputs": [],
   "source": [
    "arr1 = np.array([[3,6,32,7]])"
   ]
  },
  {
   "cell_type": "code",
   "execution_count": 6,
   "id": "68e2a241-e9a5-49df-844d-ebb6eccafcfb",
   "metadata": {},
   "outputs": [
    {
     "data": {
      "text/plain": [
       "array([[ 3,  6, 32,  7]])"
      ]
     },
     "execution_count": 6,
     "metadata": {},
     "output_type": "execute_result"
    }
   ],
   "source": [
    "arr1"
   ]
  },
  {
   "cell_type": "code",
   "execution_count": 7,
   "id": "d31203ed-2aff-4ceb-8697-401fc4998cd0",
   "metadata": {},
   "outputs": [
    {
     "data": {
      "text/plain": [
       "np.int64(6)"
      ]
     },
     "execution_count": 7,
     "metadata": {},
     "output_type": "execute_result"
    }
   ],
   "source": [
    "arr1[0,1]"
   ]
  },
  {
   "cell_type": "code",
   "execution_count": 8,
   "id": "3a1ee935-e022-488a-8efb-939d1c6ddb23",
   "metadata": {},
   "outputs": [
    {
     "data": {
      "text/plain": [
       "(4,)"
      ]
     },
     "execution_count": 8,
     "metadata": {},
     "output_type": "execute_result"
    }
   ],
   "source": [
    "arr.shape"
   ]
  },
  {
   "cell_type": "code",
   "execution_count": 9,
   "id": "038fc520-efaf-490a-8441-cfd191010885",
   "metadata": {},
   "outputs": [
    {
     "data": {
      "text/plain": [
       "dtype('int64')"
      ]
     },
     "execution_count": 9,
     "metadata": {},
     "output_type": "execute_result"
    }
   ],
   "source": [
    "arr.dtype"
   ]
  },
  {
   "cell_type": "code",
   "execution_count": 10,
   "id": "951a3ee7-48fb-47d2-b4c7-1bdee950c721",
   "metadata": {},
   "outputs": [],
   "source": [
    "arr1[0,1]=45"
   ]
  },
  {
   "cell_type": "code",
   "execution_count": 11,
   "id": "d37d41c5-5a0a-4901-8308-d1f614116984",
   "metadata": {},
   "outputs": [
    {
     "data": {
      "text/plain": [
       "array([[ 3, 45, 32,  7]])"
      ]
     },
     "execution_count": 11,
     "metadata": {},
     "output_type": "execute_result"
    }
   ],
   "source": [
    "arr1"
   ]
  },
  {
   "cell_type": "markdown",
   "id": "ddb4ac27-a4d5-44a5-90f4-885544255733",
   "metadata": {},
   "source": [
    "# Array Creation : Conversion from other  Python Structure"
   ]
  },
  {
   "cell_type": "code",
   "execution_count": 12,
   "id": "18f93353-e14d-40c9-a2b9-b253530f6759",
   "metadata": {},
   "outputs": [],
   "source": [
    "listarray = np.array([[1,2,3],[5,8,5],[0,3,1]])"
   ]
  },
  {
   "cell_type": "code",
   "execution_count": 13,
   "id": "42803787-b59e-4fc9-b25b-53ae5c1dd8c0",
   "metadata": {},
   "outputs": [
    {
     "data": {
      "text/plain": [
       "array([[1, 2, 3],\n",
       "       [5, 8, 5],\n",
       "       [0, 3, 1]])"
      ]
     },
     "execution_count": 13,
     "metadata": {},
     "output_type": "execute_result"
    }
   ],
   "source": [
    "listarray"
   ]
  },
  {
   "cell_type": "code",
   "execution_count": 14,
   "id": "162d119a-4637-4765-9bab-bdeb5790c011",
   "metadata": {},
   "outputs": [
    {
     "data": {
      "text/plain": [
       "dtype('int64')"
      ]
     },
     "execution_count": 14,
     "metadata": {},
     "output_type": "execute_result"
    }
   ],
   "source": [
    "listarray.dtype"
   ]
  },
  {
   "cell_type": "code",
   "execution_count": 15,
   "id": "9579066d-3bcc-464f-a139-4ceb66b3beb3",
   "metadata": {},
   "outputs": [
    {
     "data": {
      "text/plain": [
       "(3, 3)"
      ]
     },
     "execution_count": 15,
     "metadata": {},
     "output_type": "execute_result"
    }
   ],
   "source": [
    "listarray.shape"
   ]
  },
  {
   "cell_type": "code",
   "execution_count": 16,
   "id": "45e9abd9-7ffa-47cd-a4f6-80f7efe69806",
   "metadata": {},
   "outputs": [
    {
     "data": {
      "text/plain": [
       "9"
      ]
     },
     "execution_count": 16,
     "metadata": {},
     "output_type": "execute_result"
    }
   ],
   "source": [
    "listarray.size"
   ]
  },
  {
   "cell_type": "code",
   "execution_count": 17,
   "id": "0aabed35-3c72-40d5-a077-52a5bedd165c",
   "metadata": {},
   "outputs": [],
   "source": [
    "zeros=np.zeros([2,5])"
   ]
  },
  {
   "cell_type": "code",
   "execution_count": 18,
   "id": "21953fe5-5a2e-49da-afb5-047ca51717a5",
   "metadata": {},
   "outputs": [
    {
     "data": {
      "text/plain": [
       "array([[0., 0., 0., 0., 0.],\n",
       "       [0., 0., 0., 0., 0.]])"
      ]
     },
     "execution_count": 18,
     "metadata": {},
     "output_type": "execute_result"
    }
   ],
   "source": [
    "zeros"
   ]
  },
  {
   "cell_type": "code",
   "execution_count": 19,
   "id": "8d286fd2-58a2-47e7-bc02-8a374e4a0432",
   "metadata": {},
   "outputs": [
    {
     "data": {
      "text/plain": [
       "dtype('float64')"
      ]
     },
     "execution_count": 19,
     "metadata": {},
     "output_type": "execute_result"
    }
   ],
   "source": [
    "zeros.dtype"
   ]
  },
  {
   "cell_type": "code",
   "execution_count": 20,
   "id": "774d1dc7-5169-4a62-b4ac-380b91454735",
   "metadata": {},
   "outputs": [
    {
     "data": {
      "text/plain": [
       "(2, 5)"
      ]
     },
     "execution_count": 20,
     "metadata": {},
     "output_type": "execute_result"
    }
   ],
   "source": [
    "zeros.shape"
   ]
  },
  {
   "cell_type": "code",
   "execution_count": 21,
   "id": "7a58b505-d13d-4115-a6ca-1a5593d52a10",
   "metadata": {},
   "outputs": [
    {
     "data": {
      "text/plain": [
       "10"
      ]
     },
     "execution_count": 21,
     "metadata": {},
     "output_type": "execute_result"
    }
   ],
   "source": [
    "zeros.size"
   ]
  },
  {
   "cell_type": "code",
   "execution_count": 22,
   "id": "e98d5454-9998-492d-a91e-5c25e2375a0b",
   "metadata": {},
   "outputs": [],
   "source": [
    "range = np.arange(15)"
   ]
  },
  {
   "cell_type": "code",
   "execution_count": 23,
   "id": "a60af44d-c616-4a6a-b924-19b2035f49ad",
   "metadata": {},
   "outputs": [
    {
     "data": {
      "text/plain": [
       "array([ 0,  1,  2,  3,  4,  5,  6,  7,  8,  9, 10, 11, 12, 13, 14])"
      ]
     },
     "execution_count": 23,
     "metadata": {},
     "output_type": "execute_result"
    }
   ],
   "source": [
    "range"
   ]
  },
  {
   "cell_type": "code",
   "execution_count": 24,
   "id": "0bc62110-bfc7-4ba5-b91f-1b03d33b4918",
   "metadata": {},
   "outputs": [],
   "source": [
    "lspace = np.linspace(1,5,12)"
   ]
  },
  {
   "cell_type": "code",
   "execution_count": 25,
   "id": "797b1705-a5eb-48fc-b847-0cd84b260fcb",
   "metadata": {},
   "outputs": [
    {
     "data": {
      "text/plain": [
       "array([1.        , 1.36363636, 1.72727273, 2.09090909, 2.45454545,\n",
       "       2.81818182, 3.18181818, 3.54545455, 3.90909091, 4.27272727,\n",
       "       4.63636364, 5.        ])"
      ]
     },
     "execution_count": 25,
     "metadata": {},
     "output_type": "execute_result"
    }
   ],
   "source": [
    "lspace"
   ]
  },
  {
   "cell_type": "code",
   "execution_count": 26,
   "id": "855954c3-9a09-46a2-9aad-bc026684b97d",
   "metadata": {},
   "outputs": [],
   "source": [
    "lspace1 = np.linspace(1,50,10)"
   ]
  },
  {
   "cell_type": "code",
   "execution_count": 27,
   "id": "0aee1de5-80d5-44a5-9f23-4f2768432519",
   "metadata": {},
   "outputs": [
    {
     "data": {
      "text/plain": [
       "array([ 1.        ,  6.44444444, 11.88888889, 17.33333333, 22.77777778,\n",
       "       28.22222222, 33.66666667, 39.11111111, 44.55555556, 50.        ])"
      ]
     },
     "execution_count": 27,
     "metadata": {},
     "output_type": "execute_result"
    }
   ],
   "source": [
    "lspace1"
   ]
  },
  {
   "cell_type": "code",
   "execution_count": 28,
   "id": "ab5dd658-397c-459c-b215-7e6d8b6307cc",
   "metadata": {},
   "outputs": [],
   "source": [
    "emp = np.empty((4,6))"
   ]
  },
  {
   "cell_type": "code",
   "execution_count": 29,
   "id": "6bba2c65-5319-465d-ac77-2813137a289b",
   "metadata": {},
   "outputs": [
    {
     "data": {
      "text/plain": [
       "array([[6.23042070e-307, 4.67296746e-307, 1.69121096e-306,\n",
       "        7.56602523e-307, 1.89146896e-307, 7.56571288e-307],\n",
       "       [4.00544531e-307, 1.11261095e-306, 3.56043054e-307,\n",
       "        1.37961641e-306, 2.22518251e-306, 1.33511969e-306],\n",
       "       [6.23037657e-307, 9.34609790e-307, 8.45593934e-307,\n",
       "        9.34600963e-307, 1.86921143e-306, 6.23061763e-307],\n",
       "       [1.42421160e-306, 6.23055651e-307, 7.56595733e-307,\n",
       "        1.37961302e-306, 8.34451503e-308, 2.22507386e-306]])"
      ]
     },
     "execution_count": 29,
     "metadata": {},
     "output_type": "execute_result"
    }
   ],
   "source": [
    "emp"
   ]
  },
  {
   "cell_type": "code",
   "execution_count": 30,
   "id": "00a0b2f8-35cd-4836-abc9-8b84cebfe502",
   "metadata": {},
   "outputs": [],
   "source": [
    "emp_like = np.empty_like(lspace)"
   ]
  },
  {
   "cell_type": "code",
   "execution_count": 31,
   "id": "9dc915eb-09df-42f6-9a0c-7e833be87bdd",
   "metadata": {},
   "outputs": [
    {
     "data": {
      "text/plain": [
       "array([1.        , 1.36363636, 1.72727273, 2.09090909, 2.45454545,\n",
       "       2.81818182, 3.18181818, 3.54545455, 3.90909091, 4.27272727,\n",
       "       4.63636364, 5.        ])"
      ]
     },
     "execution_count": 31,
     "metadata": {},
     "output_type": "execute_result"
    }
   ],
   "source": [
    "emp_like"
   ]
  },
  {
   "cell_type": "code",
   "execution_count": 32,
   "id": "3450654b-cccc-4ba8-81e5-72909b827518",
   "metadata": {},
   "outputs": [],
   "source": [
    "id = np.identity(5)"
   ]
  },
  {
   "cell_type": "code",
   "execution_count": 33,
   "id": "c5ee72a4-58ad-482a-94f2-67aeb3917e6c",
   "metadata": {},
   "outputs": [
    {
     "data": {
      "text/plain": [
       "array([[1., 0., 0., 0., 0.],\n",
       "       [0., 1., 0., 0., 0.],\n",
       "       [0., 0., 1., 0., 0.],\n",
       "       [0., 0., 0., 1., 0.],\n",
       "       [0., 0., 0., 0., 1.]])"
      ]
     },
     "execution_count": 33,
     "metadata": {},
     "output_type": "execute_result"
    }
   ],
   "source": [
    "id"
   ]
  },
  {
   "cell_type": "code",
   "execution_count": 34,
   "id": "96a58f83-c30f-4f5e-8d64-6106b0bdc73f",
   "metadata": {},
   "outputs": [
    {
     "data": {
      "text/plain": [
       "(5, 5)"
      ]
     },
     "execution_count": 34,
     "metadata": {},
     "output_type": "execute_result"
    }
   ],
   "source": [
    "id.shape"
   ]
  },
  {
   "cell_type": "code",
   "execution_count": 35,
   "id": "fcc077b8-f42a-4ed8-95a2-b7471b2b14a6",
   "metadata": {},
   "outputs": [],
   "source": [
    "arr2 = np.arange(99)"
   ]
  },
  {
   "cell_type": "code",
   "execution_count": 36,
   "id": "8c43c545-4650-488a-af79-797c748a1e37",
   "metadata": {},
   "outputs": [
    {
     "data": {
      "text/plain": [
       "array([ 0,  1,  2,  3,  4,  5,  6,  7,  8,  9, 10, 11, 12, 13, 14, 15, 16,\n",
       "       17, 18, 19, 20, 21, 22, 23, 24, 25, 26, 27, 28, 29, 30, 31, 32, 33,\n",
       "       34, 35, 36, 37, 38, 39, 40, 41, 42, 43, 44, 45, 46, 47, 48, 49, 50,\n",
       "       51, 52, 53, 54, 55, 56, 57, 58, 59, 60, 61, 62, 63, 64, 65, 66, 67,\n",
       "       68, 69, 70, 71, 72, 73, 74, 75, 76, 77, 78, 79, 80, 81, 82, 83, 84,\n",
       "       85, 86, 87, 88, 89, 90, 91, 92, 93, 94, 95, 96, 97, 98])"
      ]
     },
     "execution_count": 36,
     "metadata": {},
     "output_type": "execute_result"
    }
   ],
   "source": [
    "arr2"
   ]
  },
  {
   "cell_type": "code",
   "execution_count": 37,
   "id": "cf8f3b37-c8f3-4309-9af3-27779e3ceb25",
   "metadata": {},
   "outputs": [
    {
     "data": {
      "text/plain": [
       "array([[ 0,  1,  2,  3,  4,  5,  6,  7,  8,  9, 10, 11, 12, 13, 14, 15,\n",
       "        16, 17, 18, 19, 20, 21, 22, 23, 24, 25, 26, 27, 28, 29, 30, 31,\n",
       "        32],\n",
       "       [33, 34, 35, 36, 37, 38, 39, 40, 41, 42, 43, 44, 45, 46, 47, 48,\n",
       "        49, 50, 51, 52, 53, 54, 55, 56, 57, 58, 59, 60, 61, 62, 63, 64,\n",
       "        65],\n",
       "       [66, 67, 68, 69, 70, 71, 72, 73, 74, 75, 76, 77, 78, 79, 80, 81,\n",
       "        82, 83, 84, 85, 86, 87, 88, 89, 90, 91, 92, 93, 94, 95, 96, 97,\n",
       "        98]])"
      ]
     },
     "execution_count": 37,
     "metadata": {},
     "output_type": "execute_result"
    }
   ],
   "source": [
    "arr2.reshape(3,33)"
   ]
  },
  {
   "cell_type": "code",
   "execution_count": 38,
   "id": "bcf30cf0-925c-4a78-bf5a-2a658bd04630",
   "metadata": {},
   "outputs": [
    {
     "data": {
      "text/plain": [
       "array([ 0,  1,  2,  3,  4,  5,  6,  7,  8,  9, 10, 11, 12, 13, 14, 15, 16,\n",
       "       17, 18, 19, 20, 21, 22, 23, 24, 25, 26, 27, 28, 29, 30, 31, 32, 33,\n",
       "       34, 35, 36, 37, 38, 39, 40, 41, 42, 43, 44, 45, 46, 47, 48, 49, 50,\n",
       "       51, 52, 53, 54, 55, 56, 57, 58, 59, 60, 61, 62, 63, 64, 65, 66, 67,\n",
       "       68, 69, 70, 71, 72, 73, 74, 75, 76, 77, 78, 79, 80, 81, 82, 83, 84,\n",
       "       85, 86, 87, 88, 89, 90, 91, 92, 93, 94, 95, 96, 97, 98])"
      ]
     },
     "execution_count": 38,
     "metadata": {},
     "output_type": "execute_result"
    }
   ],
   "source": [
    "arr2"
   ]
  },
  {
   "cell_type": "code",
   "execution_count": 39,
   "id": "e3772e30-b9c7-47b7-a542-5af9b0d55d0d",
   "metadata": {},
   "outputs": [],
   "source": [
    "arr2 = arr2.reshape(3,33)"
   ]
  },
  {
   "cell_type": "code",
   "execution_count": 40,
   "id": "bf23e37b-326b-4379-b5c2-fe6b99c3a430",
   "metadata": {},
   "outputs": [
    {
     "data": {
      "text/plain": [
       "array([[ 0,  1,  2,  3,  4,  5,  6,  7,  8,  9, 10, 11, 12, 13, 14, 15,\n",
       "        16, 17, 18, 19, 20, 21, 22, 23, 24, 25, 26, 27, 28, 29, 30, 31,\n",
       "        32],\n",
       "       [33, 34, 35, 36, 37, 38, 39, 40, 41, 42, 43, 44, 45, 46, 47, 48,\n",
       "        49, 50, 51, 52, 53, 54, 55, 56, 57, 58, 59, 60, 61, 62, 63, 64,\n",
       "        65],\n",
       "       [66, 67, 68, 69, 70, 71, 72, 73, 74, 75, 76, 77, 78, 79, 80, 81,\n",
       "        82, 83, 84, 85, 86, 87, 88, 89, 90, 91, 92, 93, 94, 95, 96, 97,\n",
       "        98]])"
      ]
     },
     "execution_count": 40,
     "metadata": {},
     "output_type": "execute_result"
    }
   ],
   "source": [
    "arr2"
   ]
  },
  {
   "cell_type": "code",
   "execution_count": 41,
   "id": "412bc11d-bd3e-406e-9f46-bb45550f233e",
   "metadata": {},
   "outputs": [
    {
     "data": {
      "text/plain": [
       "array([ 0,  1,  2,  3,  4,  5,  6,  7,  8,  9, 10, 11, 12, 13, 14, 15, 16,\n",
       "       17, 18, 19, 20, 21, 22, 23, 24, 25, 26, 27, 28, 29, 30, 31, 32, 33,\n",
       "       34, 35, 36, 37, 38, 39, 40, 41, 42, 43, 44, 45, 46, 47, 48, 49, 50,\n",
       "       51, 52, 53, 54, 55, 56, 57, 58, 59, 60, 61, 62, 63, 64, 65, 66, 67,\n",
       "       68, 69, 70, 71, 72, 73, 74, 75, 76, 77, 78, 79, 80, 81, 82, 83, 84,\n",
       "       85, 86, 87, 88, 89, 90, 91, 92, 93, 94, 95, 96, 97, 98])"
      ]
     },
     "execution_count": 41,
     "metadata": {},
     "output_type": "execute_result"
    }
   ],
   "source": [
    "arr2.ravel()"
   ]
  },
  {
   "cell_type": "code",
   "execution_count": 42,
   "id": "87fca8d4-b64a-4d22-8eb0-6fea69cda9b6",
   "metadata": {},
   "outputs": [],
   "source": [
    "x = [[1,2,3],[4,5,6],[7,1,0]]"
   ]
  },
  {
   "cell_type": "code",
   "execution_count": 43,
   "id": "84ac18d5-ef82-44d1-9d58-3134cf968e16",
   "metadata": {},
   "outputs": [],
   "source": [
    "arr3 = np.array(x)"
   ]
  },
  {
   "cell_type": "code",
   "execution_count": 44,
   "id": "102c4af3-cd35-4f74-b791-b9d67f68fefc",
   "metadata": {},
   "outputs": [
    {
     "data": {
      "text/plain": [
       "array([[1, 2, 3],\n",
       "       [4, 5, 6],\n",
       "       [7, 1, 0]])"
      ]
     },
     "execution_count": 44,
     "metadata": {},
     "output_type": "execute_result"
    }
   ],
   "source": [
    "arr3"
   ]
  },
  {
   "cell_type": "code",
   "execution_count": 45,
   "id": "2777c1ef-c30c-48dc-8f9b-79a448d4d445",
   "metadata": {},
   "outputs": [
    {
     "data": {
      "text/plain": [
       "array([12,  8,  9])"
      ]
     },
     "execution_count": 45,
     "metadata": {},
     "output_type": "execute_result"
    }
   ],
   "source": [
    "arr3.sum(axis=0)"
   ]
  },
  {
   "cell_type": "code",
   "execution_count": 46,
   "id": "0136e9ea-c6d7-4c83-81a4-124567aa44b7",
   "metadata": {},
   "outputs": [
    {
     "data": {
      "text/plain": [
       "array([ 6, 15,  8])"
      ]
     },
     "execution_count": 46,
     "metadata": {},
     "output_type": "execute_result"
    }
   ],
   "source": [
    "arr3.sum(axis=1)"
   ]
  },
  {
   "cell_type": "code",
   "execution_count": 47,
   "id": "db176d31-9588-469b-8db5-6913ed0671eb",
   "metadata": {},
   "outputs": [
    {
     "data": {
      "text/plain": [
       "array([[1, 4, 7],\n",
       "       [2, 5, 1],\n",
       "       [3, 6, 0]])"
      ]
     },
     "execution_count": 47,
     "metadata": {},
     "output_type": "execute_result"
    }
   ],
   "source": [
    "arr3.T"
   ]
  },
  {
   "cell_type": "code",
   "execution_count": 48,
   "id": "4fbc8b67-2773-483c-a9f7-0c6665895ec0",
   "metadata": {},
   "outputs": [
    {
     "data": {
      "text/plain": [
       "<numpy.flatiter at 0x2b6dac0dc50>"
      ]
     },
     "execution_count": 48,
     "metadata": {},
     "output_type": "execute_result"
    }
   ],
   "source": [
    "arr3.flat"
   ]
  },
  {
   "cell_type": "code",
   "execution_count": 49,
   "id": "5aa2d349-0a5d-48dd-87aa-8d98f62265b1",
   "metadata": {},
   "outputs": [
    {
     "name": "stdout",
     "output_type": "stream",
     "text": [
      "1\n",
      "2\n",
      "3\n",
      "4\n",
      "5\n",
      "6\n",
      "7\n",
      "1\n",
      "0\n"
     ]
    }
   ],
   "source": [
    "for item in arr3.flat:\n",
    "    print(item)"
   ]
  },
  {
   "cell_type": "code",
   "execution_count": 50,
   "id": "227c08eb-1bcd-4c03-92b2-cb84f927339b",
   "metadata": {},
   "outputs": [
    {
     "data": {
      "text/plain": [
       "2"
      ]
     },
     "execution_count": 50,
     "metadata": {},
     "output_type": "execute_result"
    }
   ],
   "source": [
    "arr3.ndim"
   ]
  },
  {
   "cell_type": "code",
   "execution_count": 51,
   "id": "947ab6b4-4aa0-4e71-9692-14501e07425b",
   "metadata": {},
   "outputs": [
    {
     "data": {
      "text/plain": [
       "9"
      ]
     },
     "execution_count": 51,
     "metadata": {},
     "output_type": "execute_result"
    }
   ],
   "source": [
    "arr3.size"
   ]
  },
  {
   "cell_type": "code",
   "execution_count": 52,
   "id": "cd6c32da-f7ea-4c40-a165-b0fa09b700f3",
   "metadata": {},
   "outputs": [
    {
     "data": {
      "text/plain": [
       "72"
      ]
     },
     "execution_count": 52,
     "metadata": {},
     "output_type": "execute_result"
    }
   ],
   "source": [
    "arr3.nbytes"
   ]
  },
  {
   "cell_type": "code",
   "execution_count": 53,
   "id": "084df1d4-5bcc-4470-9da1-d4bad6f93d49",
   "metadata": {},
   "outputs": [],
   "source": [
    "arr4 = np.array([1,3,4,634,2])"
   ]
  },
  {
   "cell_type": "code",
   "execution_count": 54,
   "id": "7a2e4bfd-9f5a-4061-bc11-2d791587647b",
   "metadata": {},
   "outputs": [
    {
     "data": {
      "text/plain": [
       "array([  1,   3,   4, 634,   2])"
      ]
     },
     "execution_count": 54,
     "metadata": {},
     "output_type": "execute_result"
    }
   ],
   "source": [
    "arr4"
   ]
  },
  {
   "cell_type": "code",
   "execution_count": 55,
   "id": "c522a08e-f38b-4ee2-bf16-84817db69932",
   "metadata": {},
   "outputs": [
    {
     "data": {
      "text/plain": [
       "np.int64(3)"
      ]
     },
     "execution_count": 55,
     "metadata": {},
     "output_type": "execute_result"
    }
   ],
   "source": [
    "arr4.argmax()"
   ]
  },
  {
   "cell_type": "code",
   "execution_count": 56,
   "id": "8192e021-800c-4c06-89ad-1a9351a19620",
   "metadata": {},
   "outputs": [
    {
     "data": {
      "text/plain": [
       "np.int64(0)"
      ]
     },
     "execution_count": 56,
     "metadata": {},
     "output_type": "execute_result"
    }
   ],
   "source": [
    "arr4.argmin()"
   ]
  },
  {
   "cell_type": "code",
   "execution_count": 57,
   "id": "e8901973-247b-47d2-aedf-33b6332520dc",
   "metadata": {},
   "outputs": [
    {
     "data": {
      "text/plain": [
       "array([0, 4, 1, 2, 3])"
      ]
     },
     "execution_count": 57,
     "metadata": {},
     "output_type": "execute_result"
    }
   ],
   "source": [
    "arr4.argsort()"
   ]
  },
  {
   "cell_type": "code",
   "execution_count": 58,
   "id": "51352903-1252-458b-81b2-bd5b08bedce4",
   "metadata": {},
   "outputs": [
    {
     "data": {
      "text/plain": [
       "np.int64(8)"
      ]
     },
     "execution_count": 58,
     "metadata": {},
     "output_type": "execute_result"
    }
   ],
   "source": [
    "arr3.argmin()"
   ]
  },
  {
   "cell_type": "code",
   "execution_count": 59,
   "id": "450cc928-478b-4af7-83d4-6f870c082bff",
   "metadata": {},
   "outputs": [
    {
     "data": {
      "text/plain": [
       "np.int64(6)"
      ]
     },
     "execution_count": 59,
     "metadata": {},
     "output_type": "execute_result"
    }
   ],
   "source": [
    "arr3.argmax()"
   ]
  },
  {
   "cell_type": "code",
   "execution_count": 60,
   "id": "e94238d3-c54b-4d71-b4a2-38c573f35a2d",
   "metadata": {},
   "outputs": [
    {
     "data": {
      "text/plain": [
       "array([2, 1, 1])"
      ]
     },
     "execution_count": 60,
     "metadata": {},
     "output_type": "execute_result"
    }
   ],
   "source": [
    "arr3.argmax(axis=0)"
   ]
  },
  {
   "cell_type": "code",
   "execution_count": 61,
   "id": "6da0593d-a89b-46d2-b02a-8d682f812554",
   "metadata": {},
   "outputs": [
    {
     "data": {
      "text/plain": [
       "array([2, 2, 0])"
      ]
     },
     "execution_count": 61,
     "metadata": {},
     "output_type": "execute_result"
    }
   ],
   "source": [
    "arr3.argmax(axis=1)"
   ]
  },
  {
   "cell_type": "code",
   "execution_count": 62,
   "id": "68b9882f-8db3-4743-bed9-bdd42c4c09d9",
   "metadata": {},
   "outputs": [
    {
     "data": {
      "text/plain": [
       "array([[0, 2, 2],\n",
       "       [1, 0, 0],\n",
       "       [2, 1, 1]])"
      ]
     },
     "execution_count": 62,
     "metadata": {},
     "output_type": "execute_result"
    }
   ],
   "source": [
    "arr3.argsort(axis=0)"
   ]
  },
  {
   "cell_type": "code",
   "execution_count": 63,
   "id": "04c06502-84da-4294-8fc3-ab8042aadc89",
   "metadata": {},
   "outputs": [
    {
     "data": {
      "text/plain": [
       "array([[0, 1, 2],\n",
       "       [0, 1, 2],\n",
       "       [2, 1, 0]])"
      ]
     },
     "execution_count": 63,
     "metadata": {},
     "output_type": "execute_result"
    }
   ],
   "source": [
    "arr3.argsort(axis=1)"
   ]
  },
  {
   "cell_type": "code",
   "execution_count": 64,
   "id": "0edcdedb-171a-465e-a1cc-ef671c360858",
   "metadata": {},
   "outputs": [
    {
     "data": {
      "text/plain": [
       "array([1, 2, 3, 4, 5, 6, 7, 1, 0])"
      ]
     },
     "execution_count": 64,
     "metadata": {},
     "output_type": "execute_result"
    }
   ],
   "source": [
    "arr3.ravel()"
   ]
  },
  {
   "cell_type": "code",
   "execution_count": 65,
   "id": "72e72250-f0f8-4cb1-a937-acf21bff4c43",
   "metadata": {},
   "outputs": [],
   "source": [
    "arr5 = np.array([[1,2,1],[4,0,6],[8,1,0]])"
   ]
  },
  {
   "cell_type": "code",
   "execution_count": 66,
   "id": "c61d1bef-8eb0-4283-ae43-1a6c08eb1863",
   "metadata": {},
   "outputs": [
    {
     "data": {
      "text/plain": [
       "array([[1, 2, 1],\n",
       "       [4, 0, 6],\n",
       "       [8, 1, 0]])"
      ]
     },
     "execution_count": 66,
     "metadata": {},
     "output_type": "execute_result"
    }
   ],
   "source": [
    "arr5"
   ]
  },
  {
   "cell_type": "code",
   "execution_count": 67,
   "id": "7598e138-da08-423a-8dd4-e46dfb680987",
   "metadata": {},
   "outputs": [
    {
     "data": {
      "text/plain": [
       "array([[1, 2, 3],\n",
       "       [4, 5, 6],\n",
       "       [7, 1, 0]])"
      ]
     },
     "execution_count": 67,
     "metadata": {},
     "output_type": "execute_result"
    }
   ],
   "source": [
    "arr3"
   ]
  },
  {
   "cell_type": "code",
   "execution_count": 68,
   "id": "71170f27-9c3c-4851-a1c1-b67919026dae",
   "metadata": {},
   "outputs": [
    {
     "data": {
      "text/plain": [
       "array([[ 2,  4,  4],\n",
       "       [ 8,  5, 12],\n",
       "       [15,  2,  0]])"
      ]
     },
     "execution_count": 68,
     "metadata": {},
     "output_type": "execute_result"
    }
   ],
   "source": [
    "arr3+arr5"
   ]
  },
  {
   "cell_type": "code",
   "execution_count": 69,
   "id": "1f6836fb-3383-4821-9fcc-80c2f0e2584e",
   "metadata": {},
   "outputs": [
    {
     "data": {
      "text/plain": [
       "array([[ 1,  4,  3],\n",
       "       [16,  0, 36],\n",
       "       [56,  1,  0]])"
      ]
     },
     "execution_count": 69,
     "metadata": {},
     "output_type": "execute_result"
    }
   ],
   "source": [
    "arr3*arr5"
   ]
  },
  {
   "cell_type": "code",
   "execution_count": 70,
   "id": "3f61db12-d438-4a2d-968d-a3a4d28f6e09",
   "metadata": {},
   "outputs": [
    {
     "data": {
      "text/plain": [
       "array([[1.        , 1.41421356, 1.73205081],\n",
       "       [2.        , 2.23606798, 2.44948974],\n",
       "       [2.64575131, 1.        , 0.        ]])"
      ]
     },
     "execution_count": 70,
     "metadata": {},
     "output_type": "execute_result"
    }
   ],
   "source": [
    "np.sqrt(arr3)"
   ]
  },
  {
   "cell_type": "code",
   "execution_count": 71,
   "id": "95c6b8c4-c52a-4484-bbb5-8ac7681810a4",
   "metadata": {},
   "outputs": [
    {
     "data": {
      "text/plain": [
       "(array([1, 2]), array([2, 0]))"
      ]
     },
     "execution_count": 71,
     "metadata": {},
     "output_type": "execute_result"
    }
   ],
   "source": [
    "np.where(arr3>5)"
   ]
  },
  {
   "cell_type": "code",
   "execution_count": 72,
   "id": "c213f555-1ad3-45a0-97c0-c8df18f17f2c",
   "metadata": {},
   "outputs": [
    {
     "data": {
      "text/plain": [
       "8"
      ]
     },
     "execution_count": 72,
     "metadata": {},
     "output_type": "execute_result"
    }
   ],
   "source": [
    "np.count_nonzero(arr3)"
   ]
  },
  {
   "cell_type": "code",
   "execution_count": 73,
   "id": "2874302a-b92f-400d-8c9c-eb2cec56c600",
   "metadata": {},
   "outputs": [
    {
     "data": {
      "text/plain": [
       "(array([0, 0, 0, 1, 1, 1, 2, 2]), array([0, 1, 2, 0, 1, 2, 0, 1]))"
      ]
     },
     "execution_count": 73,
     "metadata": {},
     "output_type": "execute_result"
    }
   ],
   "source": [
    "np.nonzero(arr3)"
   ]
  },
  {
   "cell_type": "code",
   "execution_count": 74,
   "id": "3c5b1d7f-94f1-4195-b4fb-d3d28f31b050",
   "metadata": {},
   "outputs": [],
   "source": [
    "import sys"
   ]
  },
  {
   "cell_type": "code",
   "execution_count": 75,
   "id": "4e868433-7a9b-4f6d-a238-1cb0da8c7ff8",
   "metadata": {},
   "outputs": [],
   "source": [
    "py_ch = [0,4,55,2]"
   ]
  },
  {
   "cell_type": "code",
   "execution_count": 76,
   "id": "3adc6b33-deb3-4699-8d84-63f3ab5a1980",
   "metadata": {},
   "outputs": [],
   "source": [
    "np_ch = np.array(py_ch)"
   ]
  },
  {
   "cell_type": "code",
   "execution_count": 77,
   "id": "2a323e53-ac1c-4eff-a030-c3ac515d72ad",
   "metadata": {},
   "outputs": [
    {
     "data": {
      "text/plain": [
       "[0, 4, 55, 2]"
      ]
     },
     "execution_count": 77,
     "metadata": {},
     "output_type": "execute_result"
    }
   ],
   "source": [
    "py_ch"
   ]
  },
  {
   "cell_type": "code",
   "execution_count": 78,
   "id": "603e291f-7502-42cd-a6e2-cf23bb7a64cc",
   "metadata": {},
   "outputs": [
    {
     "data": {
      "text/plain": [
       "array([ 0,  4, 55,  2])"
      ]
     },
     "execution_count": 78,
     "metadata": {},
     "output_type": "execute_result"
    }
   ],
   "source": [
    "np_ch"
   ]
  },
  {
   "cell_type": "code",
   "execution_count": 79,
   "id": "e9b11122-009d-43d8-95b1-34e31ed64e70",
   "metadata": {},
   "outputs": [
    {
     "data": {
      "text/plain": [
       "112"
      ]
     },
     "execution_count": 79,
     "metadata": {},
     "output_type": "execute_result"
    }
   ],
   "source": [
    "sys.getsizeof(1)*len(py_ch)"
   ]
  },
  {
   "cell_type": "code",
   "execution_count": 80,
   "id": "abedd368-1ee0-49c6-bd9a-25d80a5782f5",
   "metadata": {},
   "outputs": [
    {
     "data": {
      "text/plain": [
       "32"
      ]
     },
     "execution_count": 80,
     "metadata": {},
     "output_type": "execute_result"
    }
   ],
   "source": [
    "np_ch.itemsize*np_ch.size"
   ]
  },
  {
   "cell_type": "code",
   "execution_count": 81,
   "id": "c1311399-faf5-4a35-bb45-78d9f78c0e1a",
   "metadata": {},
   "outputs": [],
   "source": [
    "arr6 = np.array([10,20,30,40])"
   ]
  },
  {
   "cell_type": "code",
   "execution_count": 82,
   "id": "d792e5ec-1d71-46e5-a482-6c0e7c79f264",
   "metadata": {},
   "outputs": [
    {
     "data": {
      "text/plain": [
       "array([10, 20, 30, 40])"
      ]
     },
     "execution_count": 82,
     "metadata": {},
     "output_type": "execute_result"
    }
   ],
   "source": [
    "arr6"
   ]
  },
  {
   "cell_type": "code",
   "execution_count": 83,
   "id": "b8d0deaa-0cd5-459b-bdc0-a4ddc86a8fdf",
   "metadata": {},
   "outputs": [
    {
     "data": {
      "text/plain": [
       "dtype('int64')"
      ]
     },
     "execution_count": 83,
     "metadata": {},
     "output_type": "execute_result"
    }
   ],
   "source": [
    "arr6.dtype"
   ]
  },
  {
   "cell_type": "code",
   "execution_count": 84,
   "id": "a1cc208f-c79a-4f6b-83e7-ae0aa2f5940c",
   "metadata": {},
   "outputs": [
    {
     "name": "stdout",
     "output_type": "stream",
     "text": [
      "<class 'numpy.ndarray'>\n"
     ]
    }
   ],
   "source": [
    "print(type(arr6))"
   ]
  },
  {
   "cell_type": "code",
   "execution_count": 85,
   "id": "92c9fea6-0205-4b04-8906-d2cf2c09a314",
   "metadata": {},
   "outputs": [
    {
     "name": "stdout",
     "output_type": "stream",
     "text": [
      "[10 20 30]\n"
     ]
    }
   ],
   "source": [
    "print(arr6[0:3])"
   ]
  },
  {
   "cell_type": "code",
   "execution_count": 86,
   "id": "3152f249-ca34-4fb2-8468-2502fcf66a53",
   "metadata": {},
   "outputs": [
    {
     "name": "stdout",
     "output_type": "stream",
     "text": [
      "[20 30]\n"
     ]
    }
   ],
   "source": [
    "print(arr6[1:3])"
   ]
  },
  {
   "cell_type": "code",
   "execution_count": 87,
   "id": "de72830b-1824-401a-8040-f7604b805ffc",
   "metadata": {},
   "outputs": [
    {
     "name": "stdout",
     "output_type": "stream",
     "text": [
      "[20 30 40]\n"
     ]
    }
   ],
   "source": [
    "print(arr6[1:])"
   ]
  },
  {
   "cell_type": "code",
   "execution_count": 88,
   "id": "2adae46e-751a-40a5-bfca-74b694dc1948",
   "metadata": {},
   "outputs": [
    {
     "data": {
      "text/plain": [
       "array([[10, 20, 30, 40],\n",
       "       [50, 60, 70, 80]])"
      ]
     },
     "execution_count": 88,
     "metadata": {},
     "output_type": "execute_result"
    }
   ],
   "source": [
    "arr7 = np.array([[10,20,30,40],[50,60,70,80]])\n",
    "arr7"
   ]
  },
  {
   "cell_type": "code",
   "execution_count": 89,
   "id": "20ce0106-105c-4c8f-8b61-c98791ccd3c2",
   "metadata": {},
   "outputs": [
    {
     "name": "stdout",
     "output_type": "stream",
     "text": [
      "[[10 20]\n",
      " [50 60]]\n"
     ]
    }
   ],
   "source": [
    "print(arr7[0:2,0:2])"
   ]
  },
  {
   "cell_type": "code",
   "execution_count": 90,
   "id": "94ec6d5c-d551-45db-ac74-7da6f5fcc3f7",
   "metadata": {},
   "outputs": [
    {
     "name": "stdout",
     "output_type": "stream",
     "text": [
      "[[10 20 30]\n",
      " [50 60 70]]\n"
     ]
    }
   ],
   "source": [
    "print(arr7[0:2,0:3])"
   ]
  },
  {
   "cell_type": "code",
   "execution_count": 91,
   "id": "6ad2d620-c9d0-4a3e-8da3-aec39e2208fe",
   "metadata": {},
   "outputs": [
    {
     "name": "stdout",
     "output_type": "stream",
     "text": [
      "[10 20 30]\n"
     ]
    }
   ],
   "source": [
    "print(arr7[0,0:3])"
   ]
  },
  {
   "cell_type": "code",
   "execution_count": 92,
   "id": "d4422af7-c24c-4674-91c8-c28162b172e1",
   "metadata": {},
   "outputs": [
    {
     "name": "stdout",
     "output_type": "stream",
     "text": [
      "[60 70]\n"
     ]
    }
   ],
   "source": [
    "print(arr7[1,1:3])"
   ]
  },
  {
   "cell_type": "code",
   "execution_count": 93,
   "id": "d5ef9591-a7cf-47b8-b0ae-4636262dcf1d",
   "metadata": {},
   "outputs": [
    {
     "data": {
      "text/plain": [
       "(2, 4)"
      ]
     },
     "execution_count": 93,
     "metadata": {},
     "output_type": "execute_result"
    }
   ],
   "source": [
    "arr7.shape"
   ]
  },
  {
   "cell_type": "code",
   "execution_count": 94,
   "id": "6a2e5185-2ff0-4c48-85b9-79628c7c31a6",
   "metadata": {},
   "outputs": [
    {
     "data": {
      "text/plain": [
       "8"
      ]
     },
     "execution_count": 94,
     "metadata": {},
     "output_type": "execute_result"
    }
   ],
   "source": [
    "arr7.size"
   ]
  },
  {
   "cell_type": "code",
   "execution_count": 95,
   "id": "5493e474-b16a-46ca-bf2b-a5e368ad8174",
   "metadata": {},
   "outputs": [
    {
     "data": {
      "text/plain": [
       "2"
      ]
     },
     "execution_count": 95,
     "metadata": {},
     "output_type": "execute_result"
    }
   ],
   "source": [
    "len(arr7)"
   ]
  },
  {
   "cell_type": "code",
   "execution_count": 96,
   "id": "3b25202f-003f-4747-a804-42ab0dea4a85",
   "metadata": {},
   "outputs": [
    {
     "name": "stdout",
     "output_type": "stream",
     "text": [
      "(2, 4)\n",
      "8\n",
      "2\n",
      "<class 'numpy.ndarray'>\n",
      "int64\n",
      "[[10. 20. 30. 40.]\n",
      " [50. 60. 70. 80.]]\n"
     ]
    }
   ],
   "source": [
    "print(arr7.shape)\n",
    "print(arr7.size)\n",
    "print(len(arr7))\n",
    "print(type(arr7))\n",
    "print(arr7.dtype)\n",
    "print(arr7.astype(float))"
   ]
  },
  {
   "cell_type": "markdown",
   "id": "52c2c159-d3fe-4706-ac81-03eba093c991",
   "metadata": {},
   "source": [
    "# Mathematical Operations"
   ]
  },
  {
   "cell_type": "code",
   "execution_count": 97,
   "id": "f6ced14b-fc56-46d5-a1d0-8cc71931f1a6",
   "metadata": {},
   "outputs": [
    {
     "name": "stdout",
     "output_type": "stream",
     "text": [
      "[60 60 70 40 30]\n",
      "[60 60 70 40 30]\n"
     ]
    }
   ],
   "source": [
    "a = np.array([30,40,60,20,10])\n",
    "b = np.array([30,20,10,20,20])\n",
    "print(a+b)\n",
    "print(np.add(a,b))"
   ]
  },
  {
   "cell_type": "code",
   "execution_count": 98,
   "id": "00571720-7c25-4ad3-911b-b4e203ee1796",
   "metadata": {},
   "outputs": [
    {
     "name": "stdout",
     "output_type": "stream",
     "text": [
      "[[60 60]\n",
      " [30 30]]\n"
     ]
    }
   ],
   "source": [
    "c = np.array([[30,40],[20,10]])\n",
    "d = np.array([[30,20],[10,20]])\n",
    "print(np.add(c,d))"
   ]
  },
  {
   "cell_type": "code",
   "execution_count": 99,
   "id": "8d7536c1-d5d4-4352-8e45-d2c298955e11",
   "metadata": {},
   "outputs": [
    {
     "name": "stdout",
     "output_type": "stream",
     "text": [
      "[[  0  20]\n",
      " [ 10 -10]]\n",
      "[[  0  20]\n",
      " [ 10 -10]]\n"
     ]
    }
   ],
   "source": [
    "print(c-d)\n",
    "print(np.subtract(c,d))"
   ]
  },
  {
   "cell_type": "code",
   "execution_count": 100,
   "id": "1014b3fe-e16b-4dd0-ae14-b056962ec396",
   "metadata": {},
   "outputs": [
    {
     "name": "stdout",
     "output_type": "stream",
     "text": [
      "[[900 800]\n",
      " [200 200]]\n",
      "[[900 800]\n",
      " [200 200]]\n"
     ]
    }
   ],
   "source": [
    "print(c*d)\n",
    "print(np.multiply(c,d))"
   ]
  },
  {
   "cell_type": "code",
   "execution_count": 101,
   "id": "57abf321-cd89-4854-9319-bbb4ee5b6f3c",
   "metadata": {},
   "outputs": [
    {
     "name": "stdout",
     "output_type": "stream",
     "text": [
      "[[1.  2. ]\n",
      " [2.  0.5]]\n",
      "[[1.  2. ]\n",
      " [2.  0.5]]\n"
     ]
    }
   ],
   "source": [
    "print(c/d)\n",
    "print(np.divide(c,d))"
   ]
  },
  {
   "cell_type": "code",
   "execution_count": 102,
   "id": "8b9bf66e-8350-4b66-a827-66e96015dde4",
   "metadata": {},
   "outputs": [
    {
     "name": "stdout",
     "output_type": "stream",
     "text": [
      "[ 9 16  4  1]\n"
     ]
    }
   ],
   "source": [
    "e = np.array([3,4,2,1])\n",
    "f = np.array([2])\n",
    "print(np.power(e,f))"
   ]
  },
  {
   "cell_type": "code",
   "execution_count": 103,
   "id": "b18ffe41-cfd5-4299-b243-01eb67be3d25",
   "metadata": {},
   "outputs": [
    {
     "name": "stdout",
     "output_type": "stream",
     "text": [
      "[ 5. 10. 13.  9.]\n"
     ]
    }
   ],
   "source": [
    "g = np.array([25,100,169,81])\n",
    "print(np.sqrt(g))"
   ]
  },
  {
   "cell_type": "markdown",
   "id": "dbb1280b-6094-412d-8c3f-6491fd37d6e5",
   "metadata": {},
   "source": [
    "# Combining and Splitting Arrays"
   ]
  },
  {
   "cell_type": "code",
   "execution_count": 104,
   "id": "b5f61b6a-aa22-4d9c-90df-b10f36b9f53e",
   "metadata": {},
   "outputs": [
    {
     "name": "stdout",
     "output_type": "stream",
     "text": [
      "[30, 40, 50, 5, 5, 3]\n"
     ]
    }
   ],
   "source": [
    "a=[30,40,50]\n",
    "b=b=[5,5,3]\n",
    "print(a+b)"
   ]
  },
  {
   "cell_type": "markdown",
   "id": "9daebdcc-991d-4450-a53d-f734ee71e659",
   "metadata": {},
   "source": [
    "# Concatenate"
   ]
  },
  {
   "cell_type": "code",
   "execution_count": 106,
   "id": "3c27391b-6b7a-47e8-8791-d3bb1d8107c5",
   "metadata": {},
   "outputs": [
    {
     "name": "stdout",
     "output_type": "stream",
     "text": [
      "[30 40 50  5  5  3]\n"
     ]
    }
   ],
   "source": [
    "ar1 = np.array([30,40,50])\n",
    "ar2 = np.array([5,5,3])\n",
    "print(np.concatenate([ar1,ar2]))"
   ]
  },
  {
   "cell_type": "code",
   "execution_count": 107,
   "id": "febeec0f-95eb-4363-beb9-879dbfca776f",
   "metadata": {},
   "outputs": [
    {
     "name": "stdout",
     "output_type": "stream",
     "text": [
      "[30 40 50  5  5  3]\n"
     ]
    }
   ],
   "source": [
    "print(np.concatenate([ar1,ar2],axis=0))"
   ]
  },
  {
   "cell_type": "code",
   "execution_count": 111,
   "id": "cfe613bf-df7a-452a-9364-7395e402efb0",
   "metadata": {},
   "outputs": [
    {
     "name": "stdout",
     "output_type": "stream",
     "text": [
      "[[30 40]\n",
      " [50 10]\n",
      " [ 5  5]\n",
      " [ 3  3]]\n"
     ]
    }
   ],
   "source": [
    "ar3 = np.array([[30,40],[50,10]])\n",
    "ar4 = np.array([[5,5],[3,3]])\n",
    "print(np.concatenate([ar3,ar4]))"
   ]
  },
  {
   "cell_type": "code",
   "execution_count": 112,
   "id": "c4ffc283-b30a-4f1d-8d95-bdab6f3836f4",
   "metadata": {},
   "outputs": [
    {
     "name": "stdout",
     "output_type": "stream",
     "text": [
      "[[30 40  5  5]\n",
      " [50 10  3  3]]\n"
     ]
    }
   ],
   "source": [
    "print(np.concatenate([ar3,ar4],axis=1))"
   ]
  },
  {
   "cell_type": "code",
   "execution_count": 113,
   "id": "fa2275ac-f04a-49fb-989c-b1e40221899f",
   "metadata": {},
   "outputs": [
    {
     "name": "stdout",
     "output_type": "stream",
     "text": [
      "[[30 40]\n",
      " [50 10]\n",
      " [ 5  5]\n",
      " [ 3  3]]\n"
     ]
    }
   ],
   "source": [
    "print(np.concatenate([ar3,ar4],axis=0))"
   ]
  },
  {
   "cell_type": "code",
   "execution_count": 115,
   "id": "bd83dfec-ff7d-4564-9791-2cf12cc77bf7",
   "metadata": {},
   "outputs": [
    {
     "name": "stdout",
     "output_type": "stream",
     "text": [
      "[[30 40  5  5]\n",
      " [50 10  3  3]]\n"
     ]
    }
   ],
   "source": [
    "print(np.hstack([ar3,ar4]))  #Horizontal Concatenation"
   ]
  },
  {
   "cell_type": "code",
   "execution_count": 116,
   "id": "be6aafe3-c6dc-45cf-8d1c-e0f0dc526a05",
   "metadata": {},
   "outputs": [
    {
     "name": "stdout",
     "output_type": "stream",
     "text": [
      "[[30 40]\n",
      " [50 10]\n",
      " [ 5  5]\n",
      " [ 3  3]]\n"
     ]
    }
   ],
   "source": [
    "print(np.vstack([ar3,ar4]))  #Vertical Concatenation"
   ]
  },
  {
   "cell_type": "code",
   "execution_count": 120,
   "id": "124927cb-69b2-43d0-b910-d5cc424f8288",
   "metadata": {},
   "outputs": [
    {
     "name": "stdout",
     "output_type": "stream",
     "text": [
      "[array([20, 40]), array([30, 40]), array([10, 20])]\n",
      "[30 40]\n",
      "[array([20, 40]), array([30, 40]), array([10]), array([20])]\n",
      "[array([20, 40]), array([30]), array([40]), array([10]), array([20])]\n"
     ]
    }
   ],
   "source": [
    "#Splitting\n",
    "ar5 = np.array([20,40,30,40,10,20])\n",
    "print(np.array_split(ar5,3))\n",
    "print(np.array_split(ar5,3)[1])\n",
    "print(np.array_split(ar5,4))\n",
    "print(np.array_split(ar5,5))"
   ]
  },
  {
   "cell_type": "code",
   "execution_count": 124,
   "id": "dad97f84-8fc0-458b-92c4-98a35259dc33",
   "metadata": {},
   "outputs": [
    {
     "name": "stdout",
     "output_type": "stream",
     "text": [
      "[array([[20, 40, 30]]), array([[40, 10, 20]])]\n",
      "[array([[20, 40, 30]]), array([[40, 10, 20]]), array([], shape=(0, 3), dtype=int64)]\n",
      "[array([[20, 40, 30]]), array([[40, 10, 20]]), array([], shape=(0, 3), dtype=int64), array([], shape=(0, 3), dtype=int64)]\n"
     ]
    }
   ],
   "source": [
    "ar6 = np.array([[20,40,30],[40,10,20]])\n",
    "print(np.array_split(ar6,2))\n",
    "print(np.array_split(ar6,3))\n",
    "print(np.array_split(ar6,4))"
   ]
  },
  {
   "cell_type": "markdown",
   "id": "0c363b3c-5a4f-4692-8b8e-208e98a091ad",
   "metadata": {},
   "source": [
    "**Adding and Removing Elements in the Arrays**"
   ]
  },
  {
   "cell_type": "code",
   "execution_count": 126,
   "id": "7282f9f8-a5f2-4f9e-b996-d4ad846137eb",
   "metadata": {},
   "outputs": [
    {
     "name": "stdout",
     "output_type": "stream",
     "text": [
      "[20 40 60 80 90]\n"
     ]
    }
   ],
   "source": [
    "#Append\n",
    "ar7 = np.array([20,40,60,80])\n",
    "print(np.append(ar7,90))"
   ]
  },
  {
   "cell_type": "code",
   "execution_count": 127,
   "id": "344fe6f0-d21f-47ce-a027-375a94a6c750",
   "metadata": {},
   "outputs": [
    {
     "name": "stdout",
     "output_type": "stream",
     "text": [
      "[20 40 60 80 90]\n"
     ]
    }
   ],
   "source": [
    "ar8 = np.array([[20,40],[60,80]])\n",
    "print(np.append(ar8,90))"
   ]
  },
  {
   "cell_type": "code",
   "execution_count": 128,
   "id": "624a5d80-ab48-4b63-aa3f-71242c9fae01",
   "metadata": {},
   "outputs": [
    {
     "name": "stdout",
     "output_type": "stream",
     "text": [
      "[20 50 40 60 80]\n"
     ]
    }
   ],
   "source": [
    "#Insert\n",
    "print(np.insert(ar7,1,50))"
   ]
  },
  {
   "cell_type": "code",
   "execution_count": 129,
   "id": "208a6eef-1177-472e-bc45-83dcd8fce6c8",
   "metadata": {},
   "outputs": [
    {
     "name": "stdout",
     "output_type": "stream",
     "text": [
      "[20 50 40 60 80]\n"
     ]
    }
   ],
   "source": [
    "print(np.insert(ar8,1,50))"
   ]
  },
  {
   "cell_type": "code",
   "execution_count": 130,
   "id": "da28d39f-504d-4e92-8b5d-03f4f0477f5c",
   "metadata": {},
   "outputs": [
    {
     "name": "stdout",
     "output_type": "stream",
     "text": [
      "[20 50 60 40 60 80]\n"
     ]
    }
   ],
   "source": [
    "print(np.insert(ar8,1,[50,60]))"
   ]
  },
  {
   "cell_type": "code",
   "execution_count": 133,
   "id": "fcdef213-adb6-4419-89fa-5726cae9552c",
   "metadata": {},
   "outputs": [
    {
     "name": "stdout",
     "output_type": "stream",
     "text": [
      "[[20 50 40]\n",
      " [60 60 80]]\n"
     ]
    }
   ],
   "source": [
    "print(np.insert(ar8,1,[50,60],axis=1))"
   ]
  },
  {
   "cell_type": "code",
   "execution_count": 135,
   "id": "e9464c58-569c-47bb-9e13-1831368b086c",
   "metadata": {},
   "outputs": [
    {
     "name": "stdout",
     "output_type": "stream",
     "text": [
      "[[20 40]\n",
      " [50 60]\n",
      " [60 80]]\n"
     ]
    }
   ],
   "source": [
    "print(np.insert(ar8,1,[50,60],axis=0))"
   ]
  },
  {
   "cell_type": "code",
   "execution_count": 136,
   "id": "7e3138a5-fa9a-4421-935e-5b47a435afd6",
   "metadata": {},
   "outputs": [
    {
     "name": "stdout",
     "output_type": "stream",
     "text": [
      "[[20 50 40]\n",
      " [60 50 80]]\n"
     ]
    }
   ],
   "source": [
    "print(np.insert(ar8,1,[50],axis=1))"
   ]
  },
  {
   "cell_type": "code",
   "execution_count": 137,
   "id": "f0759b05-e58e-4925-8f64-645ceafc6ec1",
   "metadata": {},
   "outputs": [
    {
     "name": "stdout",
     "output_type": "stream",
     "text": [
      "[[20 50 40 50]\n",
      " [60 50 80 50]]\n"
     ]
    }
   ],
   "source": [
    "print(np.insert(ar8,[1,2],[50],axis=1))"
   ]
  },
  {
   "cell_type": "code",
   "execution_count": 138,
   "id": "e3b3a3d6-ee2e-4a36-9267-2f116f3c6ca8",
   "metadata": {},
   "outputs": [
    {
     "name": "stdout",
     "output_type": "stream",
     "text": [
      "[[20 40]\n",
      " [50 50]\n",
      " [60 80]\n",
      " [50 50]]\n"
     ]
    }
   ],
   "source": [
    "print(np.insert(ar8,[1,2],[50],axis=0))"
   ]
  },
  {
   "cell_type": "code",
   "execution_count": 139,
   "id": "b48b1ebd-1017-424e-bde4-4bdd759785a0",
   "metadata": {},
   "outputs": [
    {
     "name": "stdout",
     "output_type": "stream",
     "text": [
      "[20 60 80]\n"
     ]
    }
   ],
   "source": [
    "#Delete\n",
    "print(np.delete(ar8,1))"
   ]
  },
  {
   "cell_type": "code",
   "execution_count": 140,
   "id": "0fff1887-9608-4f23-8c03-09a8d1f7be91",
   "metadata": {},
   "outputs": [
    {
     "name": "stdout",
     "output_type": "stream",
     "text": [
      "[[20 40]]\n"
     ]
    }
   ],
   "source": [
    "print(np.delete(ar8,1,axis=0))"
   ]
  },
  {
   "cell_type": "code",
   "execution_count": 141,
   "id": "5a0ef4dd-f249-48e9-b6ca-f5c9490fc407",
   "metadata": {},
   "outputs": [
    {
     "name": "stdout",
     "output_type": "stream",
     "text": [
      "[[20]\n",
      " [60]]\n"
     ]
    }
   ],
   "source": [
    "print(np.delete(ar8,1,axis=1))"
   ]
  },
  {
   "cell_type": "markdown",
   "id": "e87c6a5e-089c-4824-a595-cc2692d15c45",
   "metadata": {},
   "source": [
    "**Search, sort and Filter**"
   ]
  },
  {
   "cell_type": "code",
   "execution_count": 143,
   "id": "f11138c8-8d6f-457a-92b2-d3e3481ef4e5",
   "metadata": {},
   "outputs": [
    {
     "name": "stdout",
     "output_type": "stream",
     "text": [
      "[ 4  7  8  9 12]\n"
     ]
    }
   ],
   "source": [
    "#Sort\n",
    "ar9 = np.array([7,8,4,12,9])\n",
    "print(np.sort(ar9))"
   ]
  },
  {
   "cell_type": "code",
   "execution_count": 145,
   "id": "acf53d9d-916a-47a7-bd50-c1d78f30b903",
   "metadata": {},
   "outputs": [
    {
     "name": "stdout",
     "output_type": "stream",
     "text": [
      "[[ 4  7  8  9 12]\n",
      " [ 1  2  3  5  8]]\n"
     ]
    }
   ],
   "source": [
    "ar10 = np.array([[7,8,4,12,9],[2,8,5,1,3]])\n",
    "print(np.sort(ar10))"
   ]
  },
  {
   "cell_type": "code",
   "execution_count": 146,
   "id": "59d696c5-1a5c-401c-ae4b-12068ba992de",
   "metadata": {},
   "outputs": [
    {
     "name": "stdout",
     "output_type": "stream",
     "text": [
      "(array([2]),)\n"
     ]
    }
   ],
   "source": [
    "#Search\n",
    "s = np.where(ar9 == 4)\n",
    "print(s)"
   ]
  },
  {
   "cell_type": "code",
   "execution_count": 147,
   "id": "f44a5736-80a5-4fe4-a33f-4a75843fd8c9",
   "metadata": {},
   "outputs": [
    {
     "name": "stdout",
     "output_type": "stream",
     "text": [
      "(array([1, 2, 3]),)\n"
     ]
    }
   ],
   "source": [
    "p = np.where(ar9%2 == 0)\n",
    "print(p)"
   ]
  },
  {
   "cell_type": "code",
   "execution_count": 156,
   "id": "639ad0a1-8db9-4e34-978e-d584805064a0",
   "metadata": {},
   "outputs": [
    {
     "name": "stdout",
     "output_type": "stream",
     "text": [
      "1\n"
     ]
    }
   ],
   "source": [
    "#Search Sorted(Arry should be sorted)\n",
    "a = np.array([1,2,3,4,5])\n",
    "q = np.searchsorted(a,2)\n",
    "r = np.searchsorted(a,5)\n",
    "print(q)\n",
    "print(r)"
   ]
  },
  {
   "cell_type": "code",
   "execution_count": 157,
   "id": "75a485b7-e91c-4bd4-98af-941806083f6c",
   "metadata": {},
   "outputs": [
    {
     "name": "stdout",
     "output_type": "stream",
     "text": [
      "[20 40]\n"
     ]
    }
   ],
   "source": [
    "#Filter\n",
    "ar11 = np.array([20,30,40,50])\n",
    "fa = [True, False, True, False]  # Values should be same (Number of Values)\n",
    "new = ar11[fa]\n",
    "print(new)"
   ]
  },
  {
   "cell_type": "code",
   "execution_count": 158,
   "id": "42007f31-34c3-4a39-b466-6999596caf73",
   "metadata": {},
   "outputs": [
    {
     "name": "stdout",
     "output_type": "stream",
     "text": [
      "[40]\n"
     ]
    }
   ],
   "source": [
    "fa1 = [False, False, True, False]\n",
    "new1 = ar11[fa1]\n",
    "print(new1)\n"
   ]
  },
  {
   "cell_type": "code",
   "execution_count": 159,
   "id": "eaa6fda8-515a-40ea-b878-3f29f8d653ca",
   "metadata": {},
   "outputs": [
    {
     "name": "stdout",
     "output_type": "stream",
     "text": [
      "[40 50]\n"
     ]
    }
   ],
   "source": [
    "fa2 = ar11>35\n",
    "new2 = ar11[fa2]\n",
    "print(new2)"
   ]
  },
  {
   "cell_type": "markdown",
   "id": "ff3370a4-3fa3-4a2e-aa6e-f38ad6899bfe",
   "metadata": {},
   "source": [
    "**Aggregating Functions in Numpy**"
   ]
  },
  {
   "cell_type": "code",
   "execution_count": 160,
   "id": "815eb8b6-f0c7-44fb-88c0-b9ef87eec0e3",
   "metadata": {},
   "outputs": [
    {
     "name": "stdout",
     "output_type": "stream",
     "text": [
      "[20 40 60 80]\n"
     ]
    }
   ],
   "source": [
    "print(ar7)"
   ]
  },
  {
   "cell_type": "code",
   "execution_count": 162,
   "id": "53af82f1-5ac3-49cc-8d93-609fcca578c3",
   "metadata": {},
   "outputs": [
    {
     "name": "stdout",
     "output_type": "stream",
     "text": [
      "200\n",
      "20\n",
      "80\n",
      "4\n",
      "50.0\n",
      "[ 20  60 120 200]\n",
      "[     20     800   48000 3840000]\n"
     ]
    }
   ],
   "source": [
    "print(np.sum(ar7))\n",
    "print(np.min(ar7))\n",
    "print(np.max(ar7))\n",
    "print(np.size(ar7))\n",
    "print(np.mean(ar7))\n",
    "print(np.cumsum(ar7))   #Cumulative sum\n",
    "print(np.cumprod(ar7))  #Cumulative Product"
   ]
  },
  {
   "cell_type": "code",
   "execution_count": 174,
   "id": "4cf91858-54ed-4591-ade6-2eadf391a350",
   "metadata": {},
   "outputs": [
    {
     "name": "stdout",
     "output_type": "stream",
     "text": [
      "[100 150 199 200 250 130] \n",
      " [10 50 30 40 30 10]\n",
      "[[ 100  150  199  200  250  130]\n",
      " [1000 7500 5970 8000 7500 1300]]\n",
      "31270\n"
     ]
    }
   ],
   "source": [
    "a = [100,150,199,200,250,130]\n",
    "b = [10,50,30,40,30,10]\n",
    "price = np.array(a)\n",
    "quantity = np.array(b)\n",
    "print(price,\"\\n\",quantity)\n",
    "c = np.cumprod([price,quantity],axis=0)\n",
    "print(c)\n",
    "print(c[1].sum())"
   ]
  },
  {
   "cell_type": "markdown",
   "id": "3c43d1cc-f4e2-4024-af43-33b710bed0a1",
   "metadata": {},
   "source": [
    "**Statistical Functions in Arrays**"
   ]
  },
  {
   "cell_type": "code",
   "execution_count": 179,
   "id": "e5516370-9361-448f-a672-5633d041aaad",
   "metadata": {},
   "outputs": [
    {
     "name": "stdout",
     "output_type": "stream",
     "text": [
      "202.25\n",
      "194.0\n",
      "200\n",
      "55.68157235567257\n",
      "3100.4375\n"
     ]
    }
   ],
   "source": [
    "baked_food = [200,300,150,130,200,280,170,188]\n",
    "import statistics as sts\n",
    "d = np.array(baked_food)\n",
    "print(np.mean(baked_food))\n",
    "print(np.median(baked_food))\n",
    "print(sts.mode(baked_food))\n",
    "print(np.std(baked_food))  #Standard Deviation\n",
    "print(np.var(baked_food))  #Variance=(std)^2"
   ]
  },
  {
   "cell_type": "code",
   "execution_count": 180,
   "id": "c40fc69f-d922-487b-a04e-daa2d1925e34",
   "metadata": {},
   "outputs": [
    {
     "name": "stdout",
     "output_type": "stream",
     "text": [
      "[[1.         0.99015454]\n",
      " [0.99015454 1.        ]]\n"
     ]
    }
   ],
   "source": [
    "#Coefficiant of correlation\n",
    "#-1 represent inversely proportional relationship\n",
    "#1 represent proportional relationship\n",
    "#0 means no relationship or Neutral\n",
    "\n",
    "tobacco_consumption = [30,50,10,30,50,40]\n",
    "deaths = [100,120,70,100,120,112]\n",
    "print(np.corrcoef([tobacco_consumption,deaths]))  #Coefficiant of Correlation"
   ]
  },
  {
   "cell_type": "code",
   "execution_count": 182,
   "id": "8df18872-58e2-4f5c-89d3-1d1cd693497f",
   "metadata": {},
   "outputs": [
    {
     "name": "stdout",
     "output_type": "stream",
     "text": [
      "[[ 1.         -0.66621445]\n",
      " [-0.66621445  1.        ]]\n"
     ]
    }
   ],
   "source": [
    "price = [300,100,350,150,200]\n",
    "sales = [10,20,7,17,3]\n",
    "print(np.corrcoef([price,sales]))"
   ]
  },
  {
   "cell_type": "code",
   "execution_count": null,
   "id": "942591da-9adf-4876-ba33-c9ff4b78e3b2",
   "metadata": {},
   "outputs": [],
   "source": []
  }
 ],
 "metadata": {
  "kernelspec": {
   "display_name": "Python 3 (ipykernel)",
   "language": "python",
   "name": "python3"
  },
  "language_info": {
   "codemirror_mode": {
    "name": "ipython",
    "version": 3
   },
   "file_extension": ".py",
   "mimetype": "text/x-python",
   "name": "python",
   "nbconvert_exporter": "python",
   "pygments_lexer": "ipython3",
   "version": "3.12.3"
  }
 },
 "nbformat": 4,
 "nbformat_minor": 5
}
